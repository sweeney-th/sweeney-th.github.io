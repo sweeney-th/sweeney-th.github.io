{
 "metadata": {
  "language_info": {
   "codemirror_mode": {
    "name": "ipython",
    "version": 3
   },
   "file_extension": ".py",
   "mimetype": "text/x-python",
   "name": "python",
   "nbconvert_exporter": "python",
   "pygments_lexer": "ipython3",
   "version": "3.8.5-final"
  },
  "orig_nbformat": 2,
  "kernelspec": {
   "name": "python38564bitfe0b49c8607b4e4c93f2ff8979199f84",
   "display_name": "Python 3.8.5 64-bit"
  }
 },
 "nbformat": 4,
 "nbformat_minor": 2,
 "cells": [
  {
   "cell_type": "markdown",
   "metadata": {},
   "source": [
    "# Closures in Python:"
   ]
  },
  {
   "cell_type": "markdown",
   "metadata": {},
   "source": [
    "## What they are, and a practical application for type-checking objects"
   ]
  },
  {
   "cell_type": "markdown",
   "metadata": {},
   "source": [
    "\n",
    "\n",
    "A closure is technique that allows functions to bundle variables in their local scope for access at a later time. If there was a variable x with the value of ten in the namespace for instance, even after that code executed, we could refer back to the namespace and x would still be 10. That's a little dry; fortunately the idea is easier to illustrate in code using a function with a function inside it.\n"
   ]
  },
  {
   "cell_type": "code",
   "execution_count": 2,
   "metadata": {},
   "outputs": [],
   "source": [
    "def add_ten_to_things():\n",
    "    # inside this function is a scope\n",
    "    # we'll call it \"outer scope\"\n",
    "    x = 10\n",
    "    def inner(y):\n",
    "        # this function has a scope\n",
    "        # we'll call it \"inner scope\"\n",
    "        return x + y\n",
    "    return inner"
   ]
  },
  {
   "cell_type": "markdown",
   "metadata": {},
   "source": [
    "Notice how in the inner function we refer to the outer scope (to the variable x) and then return the inner scope? This is the mechanism that allows closures to work: that x is now packaged into the returned inner(). Let's see how it can be accessed: "
   ]
  },
  {
   "cell_type": "code",
   "execution_count": 3,
   "metadata": {
    "tags": []
   },
   "outputs": [
    {
     "output_type": "stream",
     "name": "stdout",
     "text": "30\n"
    }
   ],
   "source": [
    "# we call the original add_ten_to_things() function that returns the inner function/namespace\n",
    "add_ten = add_ten_to_things()\n",
    "\n",
    "# we pass something for \"y\" and it will still be able to add 10 to it\n",
    "print(add_ten(20))"
   ]
  },
  {
   "cell_type": "markdown",
   "metadata": {},
   "source": [
    " Because 10 is stored in the local namespace of the outer function that produces the new function, 10 can still be accessed by it. A function that makes functions that add ten to things isn't especially useful, however: "
   ]
  },
  {
   "cell_type": "code",
   "execution_count": 4,
   "metadata": {
    "tags": []
   },
   "outputs": [
    {
     "output_type": "stream",
     "name": "stdout",
     "text": "6 16\n"
    }
   ],
   "source": [
    "def add_x_to_things(x):\n",
    "    def adder(y):\n",
    "        return x + y\n",
    "    return adder\n",
    "\n",
    "increase_by_five = add_x_to_things(5)\n",
    "increase_by_ten = add_x_to_things(10)\n",
    "\n",
    "one_plus_five = increase_by_five(1)\n",
    "one_plus_ten = increase_by_ten(6)\n",
    "\n",
    "print(one_plus_five, one_plus_ten)"
   ]
  },
  {
   "cell_type": "markdown",
   "metadata": {},
   "source": [
    "\n",
    "\n",
    "You'd be forgiven for wondering what the point of that would be. It makes more sense once you realize you can pass arguments to the outer function and that they will be accessible to the inner one. To illustrate, consider the following example, where a function can make several types of greeter builders depending on what is passed to the outer function.\n"
   ]
  },
  {
   "cell_type": "code",
   "execution_count": 5,
   "metadata": {},
   "outputs": [],
   "source": [
    "# the outer function\n",
    "def greeter_maker(greeting):\n",
    "    # inner function\n",
    "    def greeter(name):\n",
    "        print(greeting + \",\", name)\n",
    "    # outer function returns the inner \n",
    "    return greeter\n",
    "\n",
    "\n",
    "formal_greeter = greeter_maker(\"Hello, pleased to meet you\")\n",
    "casual_greeter = greeter_maker(\"Heyo\")"
   ]
  },
  {
   "cell_type": "markdown",
   "metadata": {},
   "source": [
    "In action: "
   ]
  },
  {
   "cell_type": "code",
   "execution_count": 6,
   "metadata": {
    "tags": []
   },
   "outputs": [
    {
     "output_type": "stream",
     "name": "stdout",
     "text": "Hello, pleased to meet you, Josh\nHeyo, Sruthi\n"
    }
   ],
   "source": [
    "casual_greeter(\"Josh\")\n",
    "formal_greeter(\"Sruthi\")"
   ]
  },
  {
   "cell_type": "markdown",
   "metadata": {},
   "source": [
    "\n",
    "\n",
    "Another builder:\n"
   ]
  },
  {
   "cell_type": "markdown",
   "metadata": {},
   "source": [
    "While this show some flexibility that could be made into something useful, it can be hard to see just what a powerful idea this idea is without some context, so we will look at one more example. Consider the following class: "
   ]
  },
  {
   "cell_type": "code",
   "execution_count": 7,
   "metadata": {},
   "outputs": [],
   "source": [
    "class Person(object):\n",
    "    def __init__(self, name, age):\n",
    "        self.name = name\n",
    "        self.age = age"
   ]
  },
  {
   "cell_type": "markdown",
   "metadata": {},
   "source": [
    "\n",
    "\n",
    "This is an extremely simple Python class that models a Person with a name and age. It's probably obvious to any hypothetical user of this class that \"name\" is a string and \"age' is an integer (or at least a number or some kind). However, as Python is dynamically typed, there is nothing in the language itself to enforce this. Consider the following:\n"
   ]
  },
  {
   "cell_type": "code",
   "execution_count": 8,
   "metadata": {
    "tags": []
   },
   "outputs": [
    {
     "output_type": "stream",
     "name": "stdout",
     "text": "Christian Slater\n37\n"
    }
   ],
   "source": [
    "# everything goes according to plan...\n",
    "christian = Person(\"Christian Slater\", 49)\n",
    "\n",
    "# whoops, wrong order...\n",
    "rami = Person(37, \"Rami Malek\")\n",
    "\n",
    "# gets nane \n",
    "print(christian.name)\n",
    "# not what we though we'd get\n",
    "print(rami.name)"
   ]
  },
  {
   "cell_type": "markdown",
   "metadata": {},
   "source": [
    "This program will run just fine until sometime downstream when someone tries to do a computation a involving rami's name or age but has the wrong type of data (ie, age += 1 and finds it's a string). Consider the following usage of a closure to prevent this (this is much simpler than it seems once you see it in context so hang on): "
   ]
  },
  {
   "cell_type": "code",
   "execution_count": 9,
   "metadata": {},
   "outputs": [],
   "source": [
    "# takes a dictionary of attributes->types, and a model\n",
    "def typechecking_builder(required_params, model):\n",
    "    \n",
    "    def _builder(attributes_passed):\n",
    "        # iterate through the dict that was passed to the outer function\n",
    "        for k in attributes_passed.keys():\n",
    "            current_param = attributes_passed[k]\n",
    "            type_required = required_params[k]\n",
    "            # ensure they're what we've been told to expect\n",
    "            try:\n",
    "                assert type(current_param) == type_required\n",
    "                print(\"Type check passed for\", current_param, \"of type\", type_required)\n",
    "            # raise an error if they're not\n",
    "            except AssertionError:\n",
    "                print(\"\\tfound\", current_param, \"of type\", type(current_param), \"Required:\", type_required)\n",
    "                raise TypeError(\"Type check failed for:\", k) # whatever you want to do for exception handling\n",
    "    # return the type checking function\n",
    "    return _builder"
   ]
  },
  {
   "cell_type": "markdown",
   "metadata": {},
   "source": [
    "\n",
    "\n",
    "We can now make a builder that will type check for us, telling the function what it should expect when it is called:\n"
   ]
  },
  {
   "cell_type": "code",
   "execution_count": 10,
   "metadata": {},
   "outputs": [],
   "source": [
    "# make people, thier name is a string, thier age is an int, they're of type Person\n",
    "person_builder = typechecking_builder({\"name\": str, \"age\":int}, Person)"
   ]
  },
  {
   "cell_type": "markdown",
   "metadata": {},
   "source": [
    "\n",
    "\n",
    "When we use this, it will check the types we passed:\n"
   ]
  },
  {
   "cell_type": "code",
   "execution_count": 11,
   "metadata": {
    "tags": []
   },
   "outputs": [
    {
     "output_type": "stream",
     "name": "stdout",
     "text": "Type check passed for Carly Chaikin of type <class 'str'>\nType check passed for 28 of type <class 'int'>\n"
    }
   ],
   "source": [
    "carly = person_builder({\"name\": \"Carly Chaikin\", \"age\": 28})"
   ]
  },
  {
   "cell_type": "markdown",
   "metadata": {},
   "source": [
    "\n",
    "\n",
    "Now, if we make the simple mistake from before, we get feedback right away:\n"
   ]
  },
  {
   "cell_type": "code",
   "execution_count": 12,
   "metadata": {
    "tags": []
   },
   "outputs": [
    {
     "output_type": "stream",
     "name": "stdout",
     "text": "found 32 of type <class 'int'> Required: <class 'str'>\n"
    },
    {
     "output_type": "error",
     "ename": "TypeError",
     "evalue": "('Type check failed for:', 'name')",
     "traceback": [
      "\u001b[0;31m---------------------------------------------------------------------------\u001b[0m",
      "\u001b[0;31mAssertionError\u001b[0m                            Traceback (most recent call last)",
      "\u001b[0;32m<ipython-input-9-c17e99b9bc9e>\u001b[0m in \u001b[0;36m_builder\u001b[0;34m(attributes_passed)\u001b[0m\n\u001b[1;32m     10\u001b[0m             \u001b[0;32mtry\u001b[0m\u001b[0;34m:\u001b[0m\u001b[0;34m\u001b[0m\u001b[0;34m\u001b[0m\u001b[0m\n\u001b[0;32m---> 11\u001b[0;31m                 \u001b[0;32massert\u001b[0m \u001b[0mtype\u001b[0m\u001b[0;34m(\u001b[0m\u001b[0mcurrent_param\u001b[0m\u001b[0;34m)\u001b[0m \u001b[0;34m==\u001b[0m \u001b[0mtype_required\u001b[0m\u001b[0;34m\u001b[0m\u001b[0;34m\u001b[0m\u001b[0m\n\u001b[0m\u001b[1;32m     12\u001b[0m                 \u001b[0mprint\u001b[0m\u001b[0;34m(\u001b[0m\u001b[0;34m\"Type check passed for\"\u001b[0m\u001b[0;34m,\u001b[0m \u001b[0mcurrent_param\u001b[0m\u001b[0;34m,\u001b[0m \u001b[0;34m\"of type\"\u001b[0m\u001b[0;34m,\u001b[0m \u001b[0mtype_required\u001b[0m\u001b[0;34m)\u001b[0m\u001b[0;34m\u001b[0m\u001b[0;34m\u001b[0m\u001b[0m\n",
      "\u001b[0;31mAssertionError\u001b[0m: ",
      "\nDuring handling of the above exception, another exception occurred:\n",
      "\u001b[0;31mTypeError\u001b[0m                                 Traceback (most recent call last)",
      "\u001b[0;32m<ipython-input-12-cc51cc9b497c>\u001b[0m in \u001b[0;36m<module>\u001b[0;34m\u001b[0m\n\u001b[0;32m----> 1\u001b[0;31m \u001b[0msunita\u001b[0m \u001b[0;34m=\u001b[0m \u001b[0mperson_builder\u001b[0m\u001b[0;34m(\u001b[0m\u001b[0;34m{\u001b[0m\u001b[0;34m\"name\"\u001b[0m\u001b[0;34m:\u001b[0m \u001b[0;36m32\u001b[0m\u001b[0;34m,\u001b[0m \u001b[0;34m\"age\"\u001b[0m\u001b[0;34m:\u001b[0m \u001b[0;34m\"Sunita Mani\"\u001b[0m\u001b[0;34m}\u001b[0m\u001b[0;34m)\u001b[0m\u001b[0;34m\u001b[0m\u001b[0;34m\u001b[0m\u001b[0m\n\u001b[0m",
      "\u001b[0;32m<ipython-input-9-c17e99b9bc9e>\u001b[0m in \u001b[0;36m_builder\u001b[0;34m(attributes_passed)\u001b[0m\n\u001b[1;32m     14\u001b[0m             \u001b[0;32mexcept\u001b[0m \u001b[0mAssertionError\u001b[0m\u001b[0;34m:\u001b[0m\u001b[0;34m\u001b[0m\u001b[0;34m\u001b[0m\u001b[0m\n\u001b[1;32m     15\u001b[0m                 \u001b[0mprint\u001b[0m\u001b[0;34m(\u001b[0m\u001b[0;34m\"\\tfound\"\u001b[0m\u001b[0;34m,\u001b[0m \u001b[0mcurrent_param\u001b[0m\u001b[0;34m,\u001b[0m \u001b[0;34m\"of type\"\u001b[0m\u001b[0;34m,\u001b[0m \u001b[0mtype\u001b[0m\u001b[0;34m(\u001b[0m\u001b[0mcurrent_param\u001b[0m\u001b[0;34m)\u001b[0m\u001b[0;34m,\u001b[0m \u001b[0;34m\"Required:\"\u001b[0m\u001b[0;34m,\u001b[0m \u001b[0mtype_required\u001b[0m\u001b[0;34m)\u001b[0m\u001b[0;34m\u001b[0m\u001b[0;34m\u001b[0m\u001b[0m\n\u001b[0;32m---> 16\u001b[0;31m                 \u001b[0;32mraise\u001b[0m \u001b[0mTypeError\u001b[0m\u001b[0;34m(\u001b[0m\u001b[0;34m\"Type check failed for:\"\u001b[0m\u001b[0;34m,\u001b[0m \u001b[0mk\u001b[0m\u001b[0;34m)\u001b[0m \u001b[0;31m# whatever you want to do for exception handling\u001b[0m\u001b[0;34m\u001b[0m\u001b[0;34m\u001b[0m\u001b[0m\n\u001b[0m\u001b[1;32m     17\u001b[0m     \u001b[0;31m# return the type checking function\u001b[0m\u001b[0;34m\u001b[0m\u001b[0;34m\u001b[0m\u001b[0;34m\u001b[0m\u001b[0m\n\u001b[1;32m     18\u001b[0m     \u001b[0;32mreturn\u001b[0m \u001b[0m_builder\u001b[0m\u001b[0;34m\u001b[0m\u001b[0;34m\u001b[0m\u001b[0m\n",
      "\u001b[0;31mTypeError\u001b[0m: ('Type check failed for:', 'name')"
     ]
    }
   ],
   "source": [
    "sunita = person_builder({\"name\": 32, \"age\": \"Sunita Mani\"})"
   ]
  },
  {
   "cell_type": "markdown",
   "metadata": {},
   "source": [
    "\n",
    "\n",
    "...and every Person we build will be type checked!\n"
   ]
  }
 ]
}